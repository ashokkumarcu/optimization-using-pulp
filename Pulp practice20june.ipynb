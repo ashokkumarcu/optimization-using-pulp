{
 "cells": [
  {
   "cell_type": "code",
   "execution_count": 1,
   "id": "66f57b92",
   "metadata": {},
   "outputs": [
    {
     "name": "stdout",
     "output_type": "stream",
     "text": [
      "Collecting package metadata (current_repodata.json): ...working... done\n",
      "Note: you may need to restart the kernel to use updated packages.\n",
      "\n",
      "Solving environment: ...working... done\n",
      "\n",
      "# All requested packages already installed.\n",
      "\n"
     ]
    }
   ],
   "source": [
    "conda install pulp"
   ]
  },
  {
   "cell_type": "code",
   "execution_count": 2,
   "id": "db1f2d15",
   "metadata": {},
   "outputs": [],
   "source": [
    "from pulp import *"
   ]
  },
  {
   "cell_type": "code",
   "execution_count": 3,
   "id": "5341f1fb",
   "metadata": {},
   "outputs": [],
   "source": [
    "import matplotlib.pyplot as plt\n",
    "import numpy as np"
   ]
  },
  {
   "cell_type": "code",
   "execution_count": 4,
   "id": "c3e546a4",
   "metadata": {},
   "outputs": [],
   "source": [
    "prob = LpProblem(\"SimpleProblem\",LpMinimize)"
   ]
  },
  {
   "cell_type": "code",
   "execution_count": 5,
   "id": "99fb8180",
   "metadata": {},
   "outputs": [],
   "source": [
    "x1 = LpVariable(\"x1\",0)\n",
    "x2 = LpVariable(\"x2\",0)"
   ]
  },
  {
   "cell_type": "code",
   "execution_count": 6,
   "id": "2146848a",
   "metadata": {},
   "outputs": [],
   "source": [
    "prob += 60*x1 +40*x2"
   ]
  },
  {
   "cell_type": "code",
   "execution_count": 7,
   "id": "8714519b",
   "metadata": {},
   "outputs": [],
   "source": [
    "prob += 4*x2 +4*x2 >= 10\n",
    "prob += 2*x1 +x2>=4\n",
    "prob += 6*x1 +2*x2 <=12 "
   ]
  },
  {
   "cell_type": "code",
   "execution_count": 8,
   "id": "be391699",
   "metadata": {},
   "outputs": [
    {
     "data": {
      "text/plain": [
       "1"
      ]
     },
     "execution_count": 8,
     "metadata": {},
     "output_type": "execute_result"
    }
   ],
   "source": [
    "prob.solve()"
   ]
  },
  {
   "cell_type": "code",
   "execution_count": 9,
   "id": "d94739b5",
   "metadata": {},
   "outputs": [
    {
     "name": "stdout",
     "output_type": "stream",
     "text": [
      "Status: Optimal\n"
     ]
    }
   ],
   "source": [
    "print(\"Status:\",LpStatus[prob.status])"
   ]
  },
  {
   "cell_type": "code",
   "execution_count": 10,
   "id": "5320f5c8",
   "metadata": {},
   "outputs": [
    {
     "name": "stdout",
     "output_type": "stream",
     "text": [
      "x1 = 1.375\n",
      "x2 = 1.25\n"
     ]
    }
   ],
   "source": [
    "for v in prob.variables():\n",
    "    print(v.name,\"=\",v.varValue)"
   ]
  },
  {
   "cell_type": "code",
   "execution_count": 11,
   "id": "03881f83",
   "metadata": {},
   "outputs": [
    {
     "name": "stdout",
     "output_type": "stream",
     "text": [
      "The optimal value of the objective function is = 132.5\n"
     ]
    }
   ],
   "source": [
    "print(\"The optimal value of the objective function is =\", value(prob.objective))"
   ]
  },
  {
   "cell_type": "code",
   "execution_count": 12,
   "id": "a57c4c94",
   "metadata": {},
   "outputs": [
    {
     "data": {
      "image/png": "[encoded data removed]",
      "text/plain": [
       "<Figure size 432x288 with 1 Axes>"
      ]
     },
     "metadata": {
      "needs_background": "light"
     },
     "output_type": "display_data"
    }
   ],
   "source": [
    "x = np.arange(0,4)\n",
    "plt.plot(x,2.5-x,label= \"Cons1\")\n",
    "plt.plot(x,4-2*x,label= \"Cons2\")\n",
    "plt.plot(x,6-3*x,label= \"Cons3\")\n",
    "plt.axis([0,3,0,6])\n",
    "plt.grid(True)\n",
    "plt.legend()\n",
    "plt.show()"
   ]
  },
  {
   "cell_type": "markdown",
   "id": "87688762",
   "metadata": {},
   "source": [
    "#transportation"
   ]
  },
  {
   "cell_type": "code",
   "execution_count": 13,
   "id": "fdecc570",
   "metadata": {},
   "outputs": [],
   "source": [
    "prob1 = LpProblem(\"Trans\",LpMinimize)"
   ]
  },
  {
   "cell_type": "code",
   "execution_count": 14,
   "id": "87de5578",
   "metadata": {},
   "outputs": [],
   "source": [
    "Branch = [\"A\",\"B\",\"C\",\"D\"]\n",
    "Warehouse =[1,2,3,4]"
   ]
  },
  {
   "cell_type": "code",
   "execution_count": 15,
   "id": "6b9985bd",
   "metadata": {},
   "outputs": [],
   "source": [
    "supply = {\"A\":35,\"B\":50,\"C\":80,\"D\":65}\n",
    "demand = {1:70,2:30,3:75,4:55}\n",
    "Cost = {\"A\":{1:10,2:7,3:6,4:4},\n",
    "       \"B\":{1:8,2:8,3:5,4:7},\n",
    "       \"C\":{1:4,2:3,3:6,4:9},\n",
    "       \"D\":{1:7,2:5,3:4,4:3},\n",
    "       }"
   ]
  },
  {
   "cell_type": "code",
   "execution_count": 16,
   "id": "1fb06db8",
   "metadata": {},
   "outputs": [],
   "source": [
    "routes =[(i,j) for i in Branch for j in Warehouse]"
   ]
  },
  {
   "cell_type": "code",
   "execution_count": 17,
   "id": "f4dcdb0f",
   "metadata": {},
   "outputs": [],
   "source": [
    "amount_vars = LpVariable.dicts(\"Amountship\",(Branch,Warehouse),0)"
   ]
  },
  {
   "cell_type": "code",
   "execution_count": 18,
   "id": "2d9854d2",
   "metadata": {},
   "outputs": [],
   "source": [
    "prob1 += lpSum(amount_vars[i][j]*Cost[i][j] for (i,j) in routes) "
   ]
  },
  {
   "cell_type": "code",
   "execution_count": 19,
   "id": "15743a44",
   "metadata": {},
   "outputs": [],
   "source": [
    "for j in Warehouse:\n",
    "    prob1 += lpSum(amount_vars[i][j] for i in Branch) >=demand[j]\n",
    "for i in Branch:\n",
    "    prob1 += lpSum(amount_vars[i][j] for j in Warehouse) <= supply[i]"
   ]
  },
  {
   "cell_type": "code",
   "execution_count": 40,
   "id": "fa8036d6",
   "metadata": {},
   "outputs": [
    {
     "data": {
      "text/plain": [
       "Trans:\n",
       "MINIMIZE\n",
       "10*Amountship_A_1 + 7*Amountship_A_2 + 6*Amountship_A_3 + 4*Amountship_A_4 + 8*Amountship_B_1 + 8*Amountship_B_2 + 5*Amountship_B_3 + 7*Amountship_B_4 + 4*Amountship_C_1 + 3*Amountship_C_2 + 6*Amountship_C_3 + 9*Amountship_C_4 + 7*Amountship_D_1 + 5*Amountship_D_2 + 4*Amountship_D_3 + 3*Amountship_D_4 + 0\n",
       "SUBJECT TO\n",
       "_C1: Amountship_A_1 + Amountship_B_1 + Amountship_C_1 + Amountship_D_1 >= 70\n",
       "\n",
       "_C2: Amountship_A_2 + Amountship_B_2 + Amountship_C_2 + Amountship_D_2 >= 30\n",
       "\n",
       "_C3: Amountship_A_3 + Amountship_B_3 + Amountship_C_3 + Amountship_D_3 >= 75\n",
       "\n",
       "_C4: Amountship_A_4 + Amountship_B_4 + Amountship_C_4 + Amountship_D_4 >= 55\n",
       "\n",
       "_C5: Amountship_A_1 + Amountship_A_2 + Amountship_A_3 + Amountship_A_4 <= 35\n",
       "\n",
       "_C6: Amountship_B_1 + Amountship_B_2 + Amountship_B_3 + Amountship_B_4 <= 50\n",
       "\n",
       "_C7: Amountship_C_1 + Amountship_C_2 + Amountship_C_3 + Amountship_C_4 <= 80\n",
       "\n",
       "_C8: Amountship_D_1 + Amountship_D_2 + Amountship_D_3 + Amountship_D_4 <= 65\n",
       "\n",
       "VARIABLES\n",
       "Amountship_A_1 Continuous\n",
       "Amountship_A_2 Continuous\n",
       "Amountship_A_3 Continuous\n",
       "Amountship_A_4 Continuous\n",
       "Amountship_B_1 Continuous\n",
       "Amountship_B_2 Continuous\n",
       "Amountship_B_3 Continuous\n",
       "Amountship_B_4 Continuous\n",
       "Amountship_C_1 Continuous\n",
       "Amountship_C_2 Continuous\n",
       "Amountship_C_3 Continuous\n",
       "Amountship_C_4 Continuous\n",
       "Amountship_D_1 Continuous\n",
       "Amountship_D_2 Continuous\n",
       "Amountship_D_3 Continuous\n",
       "Amountship_D_4 Continuous"
      ]
     },
     "execution_count": 40,
     "metadata": {},
     "output_type": "execute_result"
    }
   ],
   "source": [
    "prob1"
   ]
  },
  {
   "cell_type": "code",
   "execution_count": 20,
   "id": "22cb302b",
   "metadata": {},
   "outputs": [
    {
     "data": {
      "text/plain": [
       "1"
      ]
     },
     "execution_count": 20,
     "metadata": {},
     "output_type": "execute_result"
    }
   ],
   "source": [
    "prob1.solve()"
   ]
  },
  {
   "cell_type": "code",
   "execution_count": 21,
   "id": "cc6cbd65",
   "metadata": {},
   "outputs": [
    {
     "name": "stdout",
     "output_type": "stream",
     "text": [
      "Status: Optimal\n"
     ]
    }
   ],
   "source": [
    "print(\"Status:\",LpStatus[prob1.status])"
   ]
  },
  {
   "cell_type": "code",
   "execution_count": 22,
   "id": "ffb9fd8e",
   "metadata": {},
   "outputs": [
    {
     "name": "stdout",
     "output_type": "stream",
     "text": [
      "Amountship_A_4 = 35.0\n",
      "Amountship_B_3 = 50.0\n",
      "Amountship_C_1 = 70.0\n",
      "Amountship_C_2 = 10.0\n",
      "Amountship_D_2 = 20.0\n",
      "Amountship_D_3 = 25.0\n",
      "Amountship_D_4 = 20.0\n"
     ]
    }
   ],
   "source": [
    "for v in prob1.variables():\n",
    "    if v.varValue >0:\n",
    "        print(v.name,\"=\",v.varValue)"
   ]
  },
  {
   "cell_type": "code",
   "execution_count": 23,
   "id": "43593ac2",
   "metadata": {},
   "outputs": [
    {
     "name": "stdout",
     "output_type": "stream",
     "text": [
      "The optimal value of the objective function is = 960.0\n"
     ]
    }
   ],
   "source": [
    "print(\"The optimal value of the objective function is =\", value(prob1.objective))"
   ]
  },
  {
   "cell_type": "markdown",
   "id": "ad114a10",
   "metadata": {},
   "source": [
    "##Plant Location"
   ]
  },
  {
   "cell_type": "code",
   "execution_count": 24,
   "id": "1b6a06a2",
   "metadata": {},
   "outputs": [],
   "source": [
    "Customer = [1,2,3,4,5]\n",
    "Facility = [\"A\",\"B\",\"C\"]"
   ]
  },
  {
   "cell_type": "code",
   "execution_count": 25,
   "id": "de584875",
   "metadata": {},
   "outputs": [],
   "source": [
    "Demand = {1: 80,2: 270,3: 250,4: 160,5: 180}\n",
    "MaxSupply = {\"A\":500,\"B\":500,\"C\":500}\n",
    "Fixedcost = {\"A\":1000,\"B\":1000,\"C\":1000}\n",
    "Trans_cost = {\"A\":{1:4,2:5,3:6,4:8,5:10},\n",
    "             \"B\":{1:6,2:4,3:3,4:5,5:8},\n",
    "             \"C\":{1:9,2:7,3:4,4:3,5:4},\n",
    "             }"
   ]
  },
  {
   "cell_type": "code",
   "execution_count": 26,
   "id": "c66e1bbd",
   "metadata": {},
   "outputs": [],
   "source": [
    "prob2 = LpProblem(\"Plantloc\",LpMinimize)"
   ]
  },
  {
   "cell_type": "code",
   "execution_count": 27,
   "id": "f9f595e6",
   "metadata": {},
   "outputs": [],
   "source": [
    "use_facility = LpVariable.dicts(\"Use Facility\",Facility,0,1,LpBinary)\n",
    "ser_customer = LpVariable.dicts(\"Service\", [(i,j) for i in Customer for j in Facility],0)"
   ]
  },
  {
   "cell_type": "code",
   "execution_count": 28,
   "id": "2f0dde44",
   "metadata": {},
   "outputs": [],
   "source": [
    "prob2 += (lpSum(Fixedcost[j]*use_facility[j] for j in Facility)+\n",
    "         lpSum(Trans_cost[j][i]*ser_customer[(i,j)] for j in Facility for i in Customer))"
   ]
  },
  {
   "cell_type": "code",
   "execution_count": 29,
   "id": "fe56130e",
   "metadata": {},
   "outputs": [],
   "source": [
    "for i in Customer:\n",
    "    prob2 += lpSum(ser_customer[(i,j)]  for j in Facility) == Demand[i]\n",
    "for j in Facility:\n",
    "    prob2 += lpSum(ser_customer[(i,j)]  for i in Customer) <= MaxSupply[j]*use_facility[j]\n",
    "for i in Customer:\n",
    "    for j in Facility:\n",
    "        prob2 += ser_customer[(i,j)] <= Demand[i]*use_facility[j]"
   ]
  },
  {
   "cell_type": "code",
   "execution_count": 30,
   "id": "d95f26e8",
   "metadata": {},
   "outputs": [
    {
     "data": {
      "text/plain": [
       "Plantloc:\n",
       "MINIMIZE\n",
       "4*Service_(1,_'A') + 6*Service_(1,_'B') + 9*Service_(1,_'C') + 5*Service_(2,_'A') + 4*Service_(2,_'B') + 7*Service_(2,_'C') + 6*Service_(3,_'A') + 3*Service_(3,_'B') + 4*Service_(3,_'C') + 8*Service_(4,_'A') + 5*Service_(4,_'B') + 3*Service_(4,_'C') + 10*Service_(5,_'A') + 8*Service_(5,_'B') + 4*Service_(5,_'C') + 1000*Use_Facility_A + 1000*Use_Facility_B + 1000*Use_Facility_C + 0\n",
       "SUBJECT TO\n",
       "_C1: Service_(1,_'A') + Service_(1,_'B') + Service_(1,_'C') = 80\n",
       "\n",
       "_C2: Service_(2,_'A') + Service_(2,_'B') + Service_(2,_'C') = 270\n",
       "\n",
       "_C3: Service_(3,_'A') + Service_(3,_'B') + Service_(3,_'C') = 250\n",
       "\n",
       "_C4: Service_(4,_'A') + Service_(4,_'B') + Service_(4,_'C') = 160\n",
       "\n",
       "_C5: Service_(5,_'A') + Service_(5,_'B') + Service_(5,_'C') = 180\n",
       "\n",
       "_C6: Service_(1,_'A') + Service_(2,_'A') + Service_(3,_'A') + Service_(4,_'A')\n",
       " + Service_(5,_'A') - 500 Use_Facility_A <= 0\n",
       "\n",
       "_C7: Service_(1,_'B') + Service_(2,_'B') + Service_(3,_'B') + Service_(4,_'B')\n",
       " + Service_(5,_'B') - 500 Use_Facility_B <= 0\n",
       "\n",
       "_C8: Service_(1,_'C') + Service_(2,_'C') + Service_(3,_'C') + Service_(4,_'C')\n",
       " + Service_(5,_'C') - 500 Use_Facility_C <= 0\n",
       "\n",
       "_C9: Service_(1,_'A') - 80 Use_Facility_A <= 0\n",
       "\n",
       "_C10: Service_(1,_'B') - 80 Use_Facility_B <= 0\n",
       "\n",
       "_C11: Service_(1,_'C') - 80 Use_Facility_C <= 0\n",
       "\n",
       "_C12: Service_(2,_'A') - 270 Use_Facility_A <= 0\n",
       "\n",
       "_C13: Service_(2,_'B') - 270 Use_Facility_B <= 0\n",
       "\n",
       "_C14: Service_(2,_'C') - 270 Use_Facility_C <= 0\n",
       "\n",
       "_C15: Service_(3,_'A') - 250 Use_Facility_A <= 0\n",
       "\n",
       "_C16: Service_(3,_'B') - 250 Use_Facility_B <= 0\n",
       "\n",
       "_C17: Service_(3,_'C') - 250 Use_Facility_C <= 0\n",
       "\n",
       "_C18: Service_(4,_'A') - 160 Use_Facility_A <= 0\n",
       "\n",
       "_C19: Service_(4,_'B') - 160 Use_Facility_B <= 0\n",
       "\n",
       "_C20: Service_(4,_'C') - 160 Use_Facility_C <= 0\n",
       "\n",
       "_C21: Service_(5,_'A') - 180 Use_Facility_A <= 0\n",
       "\n",
       "_C22: Service_(5,_'B') - 180 Use_Facility_B <= 0\n",
       "\n",
       "_C23: Service_(5,_'C') - 180 Use_Facility_C <= 0\n",
       "\n",
       "VARIABLES\n",
       "Service_(1,_'A') Continuous\n",
       "Service_(1,_'B') Continuous\n",
       "Service_(1,_'C') Continuous\n",
       "Service_(2,_'A') Continuous\n",
       "Service_(2,_'B') Continuous\n",
       "Service_(2,_'C') Continuous\n",
       "Service_(3,_'A') Continuous\n",
       "Service_(3,_'B') Continuous\n",
       "Service_(3,_'C') Continuous\n",
       "Service_(4,_'A') Continuous\n",
       "Service_(4,_'B') Continuous\n",
       "Service_(4,_'C') Continuous\n",
       "Service_(5,_'A') Continuous\n",
       "Service_(5,_'B') Continuous\n",
       "Service_(5,_'C') Continuous\n",
       "0 <= Use_Facility_A <= 1 Integer\n",
       "0 <= Use_Facility_B <= 1 Integer\n",
       "0 <= Use_Facility_C <= 1 Integer"
      ]
     },
     "execution_count": 30,
     "metadata": {},
     "output_type": "execute_result"
    }
   ],
   "source": [
    "prob2"
   ]
  },
  {
   "cell_type": "code",
   "execution_count": 31,
   "id": "deeaac38",
   "metadata": {},
   "outputs": [
    {
     "data": {
      "text/plain": [
       "1"
      ]
     },
     "execution_count": 31,
     "metadata": {},
     "output_type": "execute_result"
    }
   ],
   "source": [
    "prob2.solve()"
   ]
  },
  {
   "cell_type": "code",
   "execution_count": 32,
   "id": "dd91e260",
   "metadata": {},
   "outputs": [
    {
     "name": "stdout",
     "output_type": "stream",
     "text": [
      "Status: Optimal\n"
     ]
    }
   ],
   "source": [
    "print(\"Status:\",LpStatus[prob1.status])"
   ]
  },
  {
   "cell_type": "code",
   "execution_count": 33,
   "id": "ec7f8410",
   "metadata": {},
   "outputs": [
    {
     "name": "stdout",
     "output_type": "stream",
     "text": [
      "Establish Facility at site =  B\n",
      "Establish Facility at site =  C\n"
     ]
    }
   ],
   "source": [
    "Tolerance = 0.0001\n",
    "for j in Facility:\n",
    "    if use_facility[j].varValue > Tolerance:\n",
    "        print(\"Establish Facility at site = \", j)"
   ]
  },
  {
   "cell_type": "code",
   "execution_count": 34,
   "id": "ab445bb6",
   "metadata": {},
   "outputs": [
    {
     "name": "stdout",
     "output_type": "stream",
     "text": [
      "Service_(1,_'A') = 0.0\n",
      "Service_(1,_'B') = 80.0\n",
      "Service_(1,_'C') = 0.0\n",
      "Service_(2,_'A') = 0.0\n",
      "Service_(2,_'B') = 270.0\n",
      "Service_(2,_'C') = 0.0\n",
      "Service_(3,_'A') = 0.0\n",
      "Service_(3,_'B') = 150.0\n",
      "Service_(3,_'C') = 100.0\n",
      "Service_(4,_'A') = 0.0\n",
      "Service_(4,_'B') = 0.0\n",
      "Service_(4,_'C') = 160.0\n",
      "Service_(5,_'A') = 0.0\n",
      "Service_(5,_'B') = 0.0\n",
      "Service_(5,_'C') = 180.0\n",
      "Use_Facility_A = 0.0\n",
      "Use_Facility_B = 1.0\n",
      "Use_Facility_C = 1.0\n"
     ]
    }
   ],
   "source": [
    "for v in prob2.variables():\n",
    "    print(v.name, \"=\", v.varValue)"
   ]
  },
  {
   "cell_type": "code",
   "execution_count": 35,
   "id": "ef48c755",
   "metadata": {},
   "outputs": [
    {
     "name": "stdout",
     "output_type": "stream",
     "text": [
      "Service_(1,_'B') = 80.0\n",
      "Service_(2,_'B') = 270.0\n",
      "Service_(3,_'B') = 150.0\n",
      "Service_(3,_'C') = 100.0\n",
      "Service_(4,_'C') = 160.0\n",
      "Service_(5,_'C') = 180.0\n",
      "Use_Facility_B = 1.0\n",
      "Use_Facility_C = 1.0\n"
     ]
    }
   ],
   "source": [
    "for v in prob2.variables():\n",
    "    if v.varValue >0:\n",
    "        print(v.name, \"=\", v.varValue)"
   ]
  },
  {
   "cell_type": "code",
   "execution_count": 36,
   "id": "4e1a2ce5",
   "metadata": {},
   "outputs": [
    {
     "name": "stdout",
     "output_type": "stream",
     "text": [
      "The optimal value of the objective function is = 5610.0\n"
     ]
    }
   ],
   "source": [
    "print(\"The optimal value of the objective function is =\", value(prob2.objective))"
   ]
  },
  {
   "cell_type": "code",
   "execution_count": 37,
   "id": "0317c48e",
   "metadata": {},
   "outputs": [],
   "source": [
    "import pandas as pd"
   ]
  },
  {
   "cell_type": "code",
   "execution_count": 38,
   "id": "e097dee5",
   "metadata": {},
   "outputs": [],
   "source": [
    "Data = pd.read_csv(\"C:/Users/Gaula/Downloads/house_data.csv\")"
   ]
  },
  {
   "cell_type": "code",
   "execution_count": 39,
   "id": "df245243",
   "metadata": {},
   "outputs": [
    {
     "data": {
      "text/html": [
       "<div>\n",
       "<style scoped>\n",
       "    .dataframe tbody tr th:only-of-type {\n",
       "        vertical-align: middle;\n",
       "    }\n",
       "\n",
       "    .dataframe tbody tr th {\n",
       "        vertical-align: top;\n",
       "    }\n",
       "\n",
       "    .dataframe thead th {\n",
       "        text-align: right;\n",
       "    }\n",
       "</style>\n",
       "<table border=\"1\" class=\"dataframe\">\n",
       "  <thead>\n",
       "    <tr style=\"text-align: right;\">\n",
       "      <th></th>\n",
       "      <th>id</th>\n",
       "      <th>date</th>\n",
       "      <th>price</th>\n",
       "      <th>bedrooms</th>\n",
       "      <th>bathrooms</th>\n",
       "      <th>sqft_living</th>\n",
       "      <th>sqft_lot</th>\n",
       "      <th>floors</th>\n",
       "      <th>waterfront</th>\n",
       "      <th>view</th>\n",
       "      <th>...</th>\n",
       "      <th>grade</th>\n",
       "      <th>sqft_above</th>\n",
       "      <th>sqft_basement</th>\n",
       "      <th>yr_built</th>\n",
       "      <th>yr_renovated</th>\n",
       "      <th>zipcode</th>\n",
       "      <th>lat</th>\n",
       "      <th>long</th>\n",
       "      <th>sqft_living15</th>\n",
       "      <th>sqft_lot15</th>\n",
       "    </tr>\n",
       "  </thead>\n",
       "  <tbody>\n",
       "    <tr>\n",
       "      <th>0</th>\n",
       "      <td>7129300520</td>\n",
       "      <td>20141013T000000</td>\n",
       "      <td>221900.0</td>\n",
       "      <td>3</td>\n",
       "      <td>1.00</td>\n",
       "      <td>1180</td>\n",
       "      <td>5650</td>\n",
       "      <td>1.0</td>\n",
       "      <td>0</td>\n",
       "      <td>0</td>\n",
       "      <td>...</td>\n",
       "      <td>7</td>\n",
       "      <td>1180.0</td>\n",
       "      <td>0</td>\n",
       "      <td>1955</td>\n",
       "      <td>0</td>\n",
       "      <td>98178</td>\n",
       "      <td>47.5112</td>\n",
       "      <td>-122.257</td>\n",
       "      <td>1340</td>\n",
       "      <td>5650</td>\n",
       "    </tr>\n",
       "    <tr>\n",
       "      <th>1</th>\n",
       "      <td>6414100192</td>\n",
       "      <td>20141209T000000</td>\n",
       "      <td>538000.0</td>\n",
       "      <td>3</td>\n",
       "      <td>2.25</td>\n",
       "      <td>2570</td>\n",
       "      <td>7242</td>\n",
       "      <td>2.0</td>\n",
       "      <td>0</td>\n",
       "      <td>0</td>\n",
       "      <td>...</td>\n",
       "      <td>7</td>\n",
       "      <td>2170.0</td>\n",
       "      <td>400</td>\n",
       "      <td>1951</td>\n",
       "      <td>1991</td>\n",
       "      <td>98125</td>\n",
       "      <td>47.7210</td>\n",
       "      <td>-122.319</td>\n",
       "      <td>1690</td>\n",
       "      <td>7639</td>\n",
       "    </tr>\n",
       "    <tr>\n",
       "      <th>2</th>\n",
       "      <td>5631500400</td>\n",
       "      <td>20150225T000000</td>\n",
       "      <td>180000.0</td>\n",
       "      <td>2</td>\n",
       "      <td>1.00</td>\n",
       "      <td>770</td>\n",
       "      <td>10000</td>\n",
       "      <td>1.0</td>\n",
       "      <td>0</td>\n",
       "      <td>0</td>\n",
       "      <td>...</td>\n",
       "      <td>6</td>\n",
       "      <td>770.0</td>\n",
       "      <td>0</td>\n",
       "      <td>1933</td>\n",
       "      <td>0</td>\n",
       "      <td>98028</td>\n",
       "      <td>47.7379</td>\n",
       "      <td>-122.233</td>\n",
       "      <td>2720</td>\n",
       "      <td>8062</td>\n",
       "    </tr>\n",
       "    <tr>\n",
       "      <th>3</th>\n",
       "      <td>2487200875</td>\n",
       "      <td>20141209T000000</td>\n",
       "      <td>604000.0</td>\n",
       "      <td>4</td>\n",
       "      <td>3.00</td>\n",
       "      <td>1960</td>\n",
       "      <td>5000</td>\n",
       "      <td>1.0</td>\n",
       "      <td>0</td>\n",
       "      <td>0</td>\n",
       "      <td>...</td>\n",
       "      <td>7</td>\n",
       "      <td>1050.0</td>\n",
       "      <td>910</td>\n",
       "      <td>1965</td>\n",
       "      <td>0</td>\n",
       "      <td>98136</td>\n",
       "      <td>47.5208</td>\n",
       "      <td>-122.393</td>\n",
       "      <td>1360</td>\n",
       "      <td>5000</td>\n",
       "    </tr>\n",
       "    <tr>\n",
       "      <th>4</th>\n",
       "      <td>1954400510</td>\n",
       "      <td>20150218T000000</td>\n",
       "      <td>510000.0</td>\n",
       "      <td>3</td>\n",
       "      <td>2.00</td>\n",
       "      <td>1680</td>\n",
       "      <td>8080</td>\n",
       "      <td>1.0</td>\n",
       "      <td>0</td>\n",
       "      <td>0</td>\n",
       "      <td>...</td>\n",
       "      <td>8</td>\n",
       "      <td>1680.0</td>\n",
       "      <td>0</td>\n",
       "      <td>1987</td>\n",
       "      <td>0</td>\n",
       "      <td>98074</td>\n",
       "      <td>47.6168</td>\n",
       "      <td>-122.045</td>\n",
       "      <td>1800</td>\n",
       "      <td>7503</td>\n",
       "    </tr>\n",
       "    <tr>\n",
       "      <th>...</th>\n",
       "      <td>...</td>\n",
       "      <td>...</td>\n",
       "      <td>...</td>\n",
       "      <td>...</td>\n",
       "      <td>...</td>\n",
       "      <td>...</td>\n",
       "      <td>...</td>\n",
       "      <td>...</td>\n",
       "      <td>...</td>\n",
       "      <td>...</td>\n",
       "      <td>...</td>\n",
       "      <td>...</td>\n",
       "      <td>...</td>\n",
       "      <td>...</td>\n",
       "      <td>...</td>\n",
       "      <td>...</td>\n",
       "      <td>...</td>\n",
       "      <td>...</td>\n",
       "      <td>...</td>\n",
       "      <td>...</td>\n",
       "      <td>...</td>\n",
       "    </tr>\n",
       "    <tr>\n",
       "      <th>21608</th>\n",
       "      <td>263000018</td>\n",
       "      <td>20140521T000000</td>\n",
       "      <td>360000.0</td>\n",
       "      <td>3</td>\n",
       "      <td>2.50</td>\n",
       "      <td>1530</td>\n",
       "      <td>1131</td>\n",
       "      <td>3.0</td>\n",
       "      <td>0</td>\n",
       "      <td>0</td>\n",
       "      <td>...</td>\n",
       "      <td>8</td>\n",
       "      <td>1530.0</td>\n",
       "      <td>0</td>\n",
       "      <td>2009</td>\n",
       "      <td>0</td>\n",
       "      <td>98103</td>\n",
       "      <td>47.6993</td>\n",
       "      <td>-122.346</td>\n",
       "      <td>1530</td>\n",
       "      <td>1509</td>\n",
       "    </tr>\n",
       "    <tr>\n",
       "      <th>21609</th>\n",
       "      <td>6600060120</td>\n",
       "      <td>20150223T000000</td>\n",
       "      <td>400000.0</td>\n",
       "      <td>4</td>\n",
       "      <td>2.50</td>\n",
       "      <td>2310</td>\n",
       "      <td>5813</td>\n",
       "      <td>2.0</td>\n",
       "      <td>0</td>\n",
       "      <td>0</td>\n",
       "      <td>...</td>\n",
       "      <td>8</td>\n",
       "      <td>2310.0</td>\n",
       "      <td>0</td>\n",
       "      <td>2014</td>\n",
       "      <td>0</td>\n",
       "      <td>98146</td>\n",
       "      <td>47.5107</td>\n",
       "      <td>-122.362</td>\n",
       "      <td>1830</td>\n",
       "      <td>7200</td>\n",
       "    </tr>\n",
       "    <tr>\n",
       "      <th>21610</th>\n",
       "      <td>1523300141</td>\n",
       "      <td>20140623T000000</td>\n",
       "      <td>402101.0</td>\n",
       "      <td>2</td>\n",
       "      <td>0.75</td>\n",
       "      <td>1020</td>\n",
       "      <td>1350</td>\n",
       "      <td>2.0</td>\n",
       "      <td>0</td>\n",
       "      <td>0</td>\n",
       "      <td>...</td>\n",
       "      <td>7</td>\n",
       "      <td>1020.0</td>\n",
       "      <td>0</td>\n",
       "      <td>2009</td>\n",
       "      <td>0</td>\n",
       "      <td>98144</td>\n",
       "      <td>47.5944</td>\n",
       "      <td>-122.299</td>\n",
       "      <td>1020</td>\n",
       "      <td>2007</td>\n",
       "    </tr>\n",
       "    <tr>\n",
       "      <th>21611</th>\n",
       "      <td>291310100</td>\n",
       "      <td>20150116T000000</td>\n",
       "      <td>400000.0</td>\n",
       "      <td>3</td>\n",
       "      <td>2.50</td>\n",
       "      <td>1600</td>\n",
       "      <td>2388</td>\n",
       "      <td>2.0</td>\n",
       "      <td>0</td>\n",
       "      <td>0</td>\n",
       "      <td>...</td>\n",
       "      <td>8</td>\n",
       "      <td>1600.0</td>\n",
       "      <td>0</td>\n",
       "      <td>2004</td>\n",
       "      <td>0</td>\n",
       "      <td>98027</td>\n",
       "      <td>47.5345</td>\n",
       "      <td>-122.069</td>\n",
       "      <td>1410</td>\n",
       "      <td>1287</td>\n",
       "    </tr>\n",
       "    <tr>\n",
       "      <th>21612</th>\n",
       "      <td>1523300157</td>\n",
       "      <td>20141015T000000</td>\n",
       "      <td>325000.0</td>\n",
       "      <td>2</td>\n",
       "      <td>0.75</td>\n",
       "      <td>1020</td>\n",
       "      <td>1076</td>\n",
       "      <td>2.0</td>\n",
       "      <td>0</td>\n",
       "      <td>0</td>\n",
       "      <td>...</td>\n",
       "      <td>7</td>\n",
       "      <td>1020.0</td>\n",
       "      <td>0</td>\n",
       "      <td>2008</td>\n",
       "      <td>0</td>\n",
       "      <td>98144</td>\n",
       "      <td>47.5941</td>\n",
       "      <td>-122.299</td>\n",
       "      <td>1020</td>\n",
       "      <td>1357</td>\n",
       "    </tr>\n",
       "  </tbody>\n",
       "</table>\n",
       "<p>21613 rows × 21 columns</p>\n",
       "</div>"
      ],
      "text/plain": [
       "               id             date     price  bedrooms  bathrooms  \\\n",
       "0      7129300520  20141013T000000  221900.0         3       1.00   \n",
       "1      6414100192  20141209T000000  538000.0         3       2.25   \n",
       "2      5631500400  20150225T000000  180000.0         2       1.00   \n",
       "3      2487200875  20141209T000000  604000.0         4       3.00   \n",
       "4      1954400510  20150218T000000  510000.0         3       2.00   \n",
       "...           ...              ...       ...       ...        ...   \n",
       "21608   263000018  20140521T000000  360000.0         3       2.50   \n",
       "21609  6600060120  20150223T000000  400000.0         4       2.50   \n",
       "21610  1523300141  20140623T000000  402101.0         2       0.75   \n",
       "21611   291310100  20150116T000000  400000.0         3       2.50   \n",
       "21612  1523300157  20141015T000000  325000.0         2       0.75   \n",
       "\n",
       "       sqft_living  sqft_lot  floors  waterfront  view  ...  grade  \\\n",
       "0             1180      5650     1.0           0     0  ...      7   \n",
       "1             2570      7242     2.0           0     0  ...      7   \n",
       "2              770     10000     1.0           0     0  ...      6   \n",
       "3             1960      5000     1.0           0     0  ...      7   \n",
       "4             1680      8080     1.0           0     0  ...      8   \n",
       "...            ...       ...     ...         ...   ...  ...    ...   \n",
       "21608         1530      1131     3.0           0     0  ...      8   \n",
       "21609         2310      5813     2.0           0     0  ...      8   \n",
       "21610         1020      1350     2.0           0     0  ...      7   \n",
       "21611         1600      2388     2.0           0     0  ...      8   \n",
       "21612         1020      1076     2.0           0     0  ...      7   \n",
       "\n",
       "       sqft_above  sqft_basement  yr_built  yr_renovated  zipcode      lat  \\\n",
       "0          1180.0              0      1955             0    98178  47.5112   \n",
       "1          2170.0            400      1951          1991    98125  47.7210   \n",
       "2           770.0              0      1933             0    98028  47.7379   \n",
       "3          1050.0            910      1965             0    98136  47.5208   \n",
       "4          1680.0              0      1987             0    98074  47.6168   \n",
       "...           ...            ...       ...           ...      ...      ...   \n",
       "21608      1530.0              0      2009             0    98103  47.6993   \n",
       "21609      2310.0              0      2014             0    98146  47.5107   \n",
       "21610      1020.0              0      2009             0    98144  47.5944   \n",
       "21611      1600.0              0      2004             0    98027  47.5345   \n",
       "21612      1020.0              0      2008             0    98144  47.5941   \n",
       "\n",
       "          long  sqft_living15  sqft_lot15  \n",
       "0     -122.257           1340        5650  \n",
       "1     -122.319           1690        7639  \n",
       "2     -122.233           2720        8062  \n",
       "3     -122.393           1360        5000  \n",
       "4     -122.045           1800        7503  \n",
       "...        ...            ...         ...  \n",
       "21608 -122.346           1530        1509  \n",
       "21609 -122.362           1830        7200  \n",
       "21610 -122.299           1020        2007  \n",
       "21611 -122.069           1410        1287  \n",
       "21612 -122.299           1020        1357  \n",
       "\n",
       "[21613 rows x 21 columns]"
      ]
     },
     "execution_count": 39,
     "metadata": {},
     "output_type": "execute_result"
    }
   ],
   "source": [
    "Data"
   ]
  },
  {
   "cell_type": "code",
   "execution_count": null,
   "id": "55c5f73d",
   "metadata": {},
   "outputs": [],
   "source": []
  }
 ],
 "metadata": {
  "kernelspec": {
   "display_name": "Python 3",
   "language": "python",
   "name": "python3"
  },
  "language_info": {
   "codemirror_mode": {
    "name": "ipython",
    "version": 3
   },
   "file_extension": ".py",
   "mimetype": "text/x-python",
   "name": "python",
   "nbconvert_exporter": "python",
   "pygments_lexer": "ipython3",
   "version": "3.8.8"
  }
 },
 "nbformat": 4,
 "nbformat_minor": 5
}
