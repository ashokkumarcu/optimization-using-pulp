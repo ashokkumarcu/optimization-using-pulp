{
 "cells": [
  {
   "cell_type": "code",
   "execution_count": 1,
   "id": "0ce13b3f",
   "metadata": {},
   "outputs": [],
   "source": [
    "from pulp import *"
   ]
  },
  {
   "cell_type": "code",
   "execution_count": 2,
   "id": "90f7a1f9",
   "metadata": {},
   "outputs": [],
   "source": [
    "prob1 = LpProblem(\"Prob1\",LpMinimize)"
   ]
  },
  {
   "cell_type": "code",
   "execution_count": 3,
   "id": "520036f7",
   "metadata": {},
   "outputs": [],
   "source": [
    "Warehouses = [1,2,3]\n",
    "Customers =['A','B','C']"
   ]
  },
  {
   "cell_type": "code",
   "execution_count": 4,
   "id": "3e4de1ca",
   "metadata": {},
   "outputs": [],
   "source": [
    "routes = [(i,j) for i in Warehouses for j in Customers]"
   ]
  },
  {
   "cell_type": "code",
   "execution_count": 5,
   "id": "00bcdcb3",
   "metadata": {},
   "outputs": [],
   "source": [
    "amount_ship = LpVariable.dicts(\"amountship\",(Warehouses,Customers),0)"
   ]
  },
  {
   "cell_type": "code",
   "execution_count": 6,
   "id": "fdc3e144",
   "metadata": {},
   "outputs": [
    {
     "data": {
      "text/plain": [
       "{1: {'A': amountship_1_A, 'B': amountship_1_B, 'C': amountship_1_C},\n",
       " 2: {'A': amountship_2_A, 'B': amountship_2_B, 'C': amountship_2_C},\n",
       " 3: {'A': amountship_3_A, 'B': amountship_3_B, 'C': amountship_3_C}}"
      ]
     },
     "execution_count": 6,
     "metadata": {},
     "output_type": "execute_result"
    }
   ],
   "source": [
    "amount_ship"
   ]
  },
  {
   "cell_type": "code",
   "execution_count": 7,
   "id": "22d8546e",
   "metadata": {},
   "outputs": [],
   "source": [
    "supply = {1:40,2:30,3:20}\n",
    "demand = {'A':30,'B':30,'C':30}\n",
    "cost = {1:{'A':15,'B':35,'C':25},\n",
    "       2:{'A':10,'B':50,'C':40},\n",
    "       3:{'A':90,'B':80,'C':110}\n",
    "       }\n",
    "  \n"
   ]
  },
  {
   "cell_type": "code",
   "execution_count": null,
   "id": "2b85c533",
   "metadata": {},
   "outputs": [],
   "source": []
  },
  {
   "cell_type": "code",
   "execution_count": 8,
   "id": "05b34f97",
   "metadata": {},
   "outputs": [],
   "source": [
    "prob1 += lpSum(amount_ship[i][j]*cost[i][j] for (i,j) in routes) "
   ]
  },
  {
   "cell_type": "code",
   "execution_count": 9,
   "id": "ef58be0b",
   "metadata": {},
   "outputs": [
    {
     "data": {
      "text/plain": [
       "Prob1:\n",
       "MINIMIZE\n",
       "15*amountship_1_A + 35*amountship_1_B + 25*amountship_1_C + 10*amountship_2_A + 50*amountship_2_B + 40*amountship_2_C + 90*amountship_3_A + 80*amountship_3_B + 110*amountship_3_C + 0\n",
       "VARIABLES\n",
       "amountship_1_A Continuous\n",
       "amountship_1_B Continuous\n",
       "amountship_1_C Continuous\n",
       "amountship_2_A Continuous\n",
       "amountship_2_B Continuous\n",
       "amountship_2_C Continuous\n",
       "amountship_3_A Continuous\n",
       "amountship_3_B Continuous\n",
       "amountship_3_C Continuous"
      ]
     },
     "execution_count": 9,
     "metadata": {},
     "output_type": "execute_result"
    }
   ],
   "source": [
    "prob1"
   ]
  },
  {
   "cell_type": "code",
   "execution_count": 11,
   "id": "cc49b650",
   "metadata": {},
   "outputs": [],
   "source": [
    "for j in Customers:\n",
    "    prob1 += lpSum(amount_ship[i][j] for i in Warehouses) >=demand[j]\n",
    "for i in Warehouses:\n",
    "    prob1 += lpSum(amount_ship[i][j] for j in Customers) <= supply[i]"
   ]
  },
  {
   "cell_type": "code",
   "execution_count": 12,
   "id": "34ed6a51",
   "metadata": {},
   "outputs": [
    {
     "data": {
      "text/plain": [
       "1"
      ]
     },
     "execution_count": 12,
     "metadata": {},
     "output_type": "execute_result"
    }
   ],
   "source": [
    "prob1.solve()"
   ]
  },
  {
   "cell_type": "code",
   "execution_count": 13,
   "id": "08fd288b",
   "metadata": {},
   "outputs": [
    {
     "name": "stdout",
     "output_type": "stream",
     "text": [
      "Status: Optimal\n"
     ]
    }
   ],
   "source": [
    "print(\"Status:\",LpStatus[prob1.status])"
   ]
  },
  {
   "cell_type": "code",
   "execution_count": 14,
   "id": "1099cfb7",
   "metadata": {},
   "outputs": [
    {
     "name": "stdout",
     "output_type": "stream",
     "text": [
      "amountship_1_B = 10.0\n",
      "amountship_1_C = 30.0\n",
      "amountship_2_A = 30.0\n",
      "amountship_3_B = 20.0\n"
     ]
    }
   ],
   "source": [
    "for v in prob1.variables():\n",
    "    if v.varValue >0:\n",
    "        print(v.name,\"=\",v.varValue)"
   ]
  },
  {
   "cell_type": "code",
   "execution_count": 15,
   "id": "81e0bfec",
   "metadata": {},
   "outputs": [
    {
     "name": "stdout",
     "output_type": "stream",
     "text": [
      "The optimal value of the objective function is = 3000.0\n"
     ]
    }
   ],
   "source": [
    "print(\"The optimal value of the objective function is =\", value(prob1.objective))"
   ]
  },
  {
   "cell_type": "code",
   "execution_count": null,
   "id": "8bd8c55e",
   "metadata": {},
   "outputs": [],
   "source": []
  }
 ],
 "metadata": {
  "kernelspec": {
   "display_name": "Python 3",
   "language": "python",
   "name": "python3"
  },
  "language_info": {
   "codemirror_mode": {
    "name": "ipython",
    "version": 3
   },
   "file_extension": ".py",
   "mimetype": "text/x-python",
   "name": "python",
   "nbconvert_exporter": "python",
   "pygments_lexer": "ipython3",
   "version": "3.8.8"
  }
 },
 "nbformat": 4,
 "nbformat_minor": 5
}
