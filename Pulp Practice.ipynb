{
 "cells": [
  {
   "cell_type": "code",
   "execution_count": 1,
   "id": "86126423",
   "metadata": {},
   "outputs": [
    {
     "name": "stdout",
     "output_type": "stream",
     "text": [
      "Requirement already satisfied: pulp in e:\\ana\\lib\\site-packages (2.6.0)Note: you may need to restart the kernel to use updated packages.\n",
      "\n"
     ]
    }
   ],
   "source": [
    "pip install pulp"
   ]
  },
  {
   "cell_type": "code",
   "execution_count": 4,
   "id": "acb22b54",
   "metadata": {},
   "outputs": [],
   "source": [
    "from pulp import *"
   ]
  },
  {
   "cell_type": "code",
   "execution_count": 6,
   "id": "f5a3b6f7",
   "metadata": {},
   "outputs": [
    {
     "name": "stdout",
     "output_type": "stream",
     "text": [
      "product 0.0 cake A\n",
      "product 11.0 cake B\n"
     ]
    }
   ],
   "source": [
    "model = LpProblem('Example', LpMaximize)\n",
    "A = LpVariable('A',lowBound=0,cat='Integer')\n",
    "B = LpVariable('B',lowBound=0,cat='Integer')\n",
    "model += 20*A+40*B\n",
    "model += 0.5*A+B<=30\n",
    "model += A+2.5*B<=60\n",
    "model += A+2*B<=22\n",
    "\n",
    "model.solve()\n",
    "print(\"product {} cake A\".format(A.varValue))\n",
    "print(\"product {} cake B\".format(B.varValue))"
   ]
  },
  {
   "cell_type": "code",
   "execution_count": 16,
   "id": "891088d3",
   "metadata": {},
   "outputs": [
    {
     "name": "stdout",
     "output_type": "stream",
     "text": [
      "food 3.0 units\n",
      "food 0.0 units\n",
      "minimum cost: 180.0\n"
     ]
    }
   ],
   "source": [
    "model = LpProblem('Diet Problem',LpMinimize)\n",
    "F1 = LpVariable('F1',lowBound=0,cat ='Integer')\n",
    "F2 = LpVariable('F2',lowBound=0,cat = 'Integer')\n",
    "model += 60*F1+80*F2\n",
    "model += 3*F1+4*F2>=8\n",
    "model += 5*F1+2*F2>=11\n",
    "\n",
    "model.solve()\n",
    "print(\"food {} units\".format(F1.varValue))\n",
    "print(\"food {} units\".format(F2.varValue))\n",
    "print(\"minimum cost:\",value(model.objective))"
   ]
  },
  {
   "cell_type": "code",
   "execution_count": 21,
   "id": "82c6ea87",
   "metadata": {},
   "outputs": [
    {
     "name": "stdout",
     "output_type": "stream",
     "text": [
      "Tables 30.0 units\n",
      "Chairs 40.0 units\n",
      "maximum profit: 410.0\n"
     ]
    }
   ],
   "source": [
    "model = LpProblem('Diet Problem',LpMaximize)\n",
    "F1 = LpVariable('F1',lowBound=0,cat ='Integer')\n",
    "F2 = LpVariable('F2',lowBound=0,cat = 'Integer')\n",
    "model += 7*F1+5*F2\n",
    "model += 4*F1+3*F2<=240\n",
    "model += 2*F1+F2<=100\n",
    "\n",
    "model.solve()\n",
    "\n",
    "print(\"Tables {} units\".format(F1.varValue))\n",
    "print(\"Chairs {} units\".format(F2.varValue))\n",
    "print(\"maximum profit:\",value(model.objective))"
   ]
  },
  {
   "cell_type": "markdown",
   "id": "3bc2bb34",
   "metadata": {},
   "source": [
    "#Transportation Problem\n"
   ]
  },
  {
   "cell_type": "code",
   "execution_count": 33,
   "id": "dd92d575",
   "metadata": {},
   "outputs": [
    {
     "name": "stdout",
     "output_type": "stream",
     "text": [
      "Status: Optimal\n",
      "Route_A_1 = 0.0\n",
      "Route_A_2 = 800.0\n",
      "Route_A_3 = 0.0\n",
      "Route_A_4 = 200.0\n",
      "Route_A_5 = 0.0\n",
      "Route_B_1 = 500.0\n",
      "Route_B_2 = 100.0\n",
      "Route_B_3 = 1800.0\n",
      "Route_B_4 = 0.0\n",
      "Route_B_5 = 700.0\n",
      "Total cost of transportation = 4100.0\n"
     ]
    }
   ],
   "source": [
    "Warehouses = [\"A\",\"B\"]\n",
    "Bars = [\"1\",\"2\",\"3\",\"4\",\"5\"]\n",
    "supply = {\"A\":1000,\"B\":4000}\n",
    "demand = {\"1\":500,\"2\":900,\"3\":1800,\"4\":200,\"5\":700}\n",
    "costs = [[2,4,5,2,1],[3,1,3,2,3]]\n",
    "costs = makeDict([Warehouses,Bars],costs,0)\n",
    "prob = LpProblem(\"Beer Distribution\",LpMinimize)\n",
    "Routes = [(w,b) for w in Warehouses for b in Bars]\n",
    "vars = LpVariable.dicts(\"Route\",(Warehouses,Bars),0,cat=\"Integer\")\n",
    "prob += (lpSum([vars[w][b] for (w,b) in Routes]),\"Sum_of Transporting_Costs\",)\n",
    "for w in Warehouses:\n",
    "    prob += (lpSum([vars[w][b] for b in Bars])<=supply[w],\"Sum_of_Products_out_of_Warehouses_%s\" %w,)\n",
    "for b in Bars:\n",
    "    prob += (lpSum([vars[w][b] for w in Warehouses])>=demand[b],\"Sum_of_Products_into_Bars%s\" %b,)\n",
    "\n",
    "prob.solve()\n",
    "print(\"Status:\",LpStatus[prob.status])\n",
    "for v in prob.variables():\n",
    "    print(v.name,\"=\",v.varValue)\n",
    "print(\"Total cost of transportation =\",value(prob.objective))"
   ]
  },
  {
   "cell_type": "code",
   "execution_count": null,
   "id": "6402dae2",
   "metadata": {},
   "outputs": [],
   "source": []
  }
 ],
 "metadata": {
  "kernelspec": {
   "display_name": "Python 3",
   "language": "python",
   "name": "python3"
  },
  "language_info": {
   "codemirror_mode": {
    "name": "ipython",
    "version": 3
   },
   "file_extension": ".py",
   "mimetype": "text/x-python",
   "name": "python",
   "nbconvert_exporter": "python",
   "pygments_lexer": "ipython3",
   "version": "3.8.8"
  }
 },
 "nbformat": 4,
 "nbformat_minor": 5
}
