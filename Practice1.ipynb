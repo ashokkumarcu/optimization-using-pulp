{
 "cells": [
  {
   "cell_type": "markdown",
   "id": "9bca95c0",
   "metadata": {},
   "source": [
    "# Practice"
   ]
  },
  {
   "cell_type": "code",
   "execution_count": 2,
   "id": "5a2fee5d",
   "metadata": {},
   "outputs": [
    {
     "name": "stdout",
     "output_type": "stream",
     "text": [
      "Current date and time : \n",
      "2021-11-29 16:50:46\n"
     ]
    }
   ],
   "source": [
    "import datetime\n",
    "now = datetime.datetime.now()\n",
    "print (\"Current date and time : \")\n",
    "print (now.strftime(\"%Y-%m-%d %H:%M:%S\"))\n"
   ]
  },
  {
   "cell_type": "code",
   "execution_count": 10,
   "id": "2d27c755",
   "metadata": {},
   "outputs": [
    {
     "name": "stdout",
     "output_type": "stream",
     "text": [
      "2\n",
      "12.566370614359172\n"
     ]
    }
   ],
   "source": [
    "from math import pi\n",
    "r = float(input())\n",
    "A = pi*r**2\n",
    "print(A)"
   ]
  },
  {
   "cell_type": "code",
   "execution_count": 14,
   "id": "d84742e2",
   "metadata": {},
   "outputs": [
    {
     "name": "stdout",
     "output_type": "stream",
     "text": [
      "ash kum\n",
      "gau\n",
      "gau ash kum\n"
     ]
    }
   ],
   "source": [
    "fname = str(input())\n",
    "lname = str(input())\n",
    "Name = lname+' '+fname\n",
    "print(Name)"
   ]
  },
  {
   "cell_type": "code",
   "execution_count": 17,
   "id": "e934ba14",
   "metadata": {},
   "outputs": [
    {
     "name": "stdout",
     "output_type": "stream",
     "text": [
      "1 2 3 4 5\n",
      "[['1', '2', '3', '4', '5']]\n",
      "['1', '2', '3', '4', '5']\n"
     ]
    }
   ],
   "source": [
    "N = input().split()\n",
    "Lis = [N]\n",
    "Tup = (N)\n",
    "print(Lis)\n",
    "print(Tup)\n"
   ]
  },
  {
   "cell_type": "code",
   "execution_count": 21,
   "id": "708bd560",
   "metadata": {},
   "outputs": [
    {
     "name": "stdout",
     "output_type": "stream",
     "text": [
      "abc.pdf\n",
      "pdf\n"
     ]
    }
   ],
   "source": [
    "fil = input()\n",
    "ext = fil.split('.')\n",
    "print(ext[-1])"
   ]
  },
  {
   "cell_type": "code",
   "execution_count": 22,
   "id": "c6cff5af",
   "metadata": {},
   "outputs": [
    {
     "name": "stdout",
     "output_type": "stream",
     "text": [
      "Red\n",
      "Black\n"
     ]
    }
   ],
   "source": [
    "color_list = [\"Red\",\"Green\",\"White\",\"Black\"]\n",
    "print(color_list[0])\n",
    "print(color_list[-1])"
   ]
  },
  {
   "cell_type": "code",
   "execution_count": 36,
   "id": "15121c15",
   "metadata": {},
   "outputs": [
    {
     "name": "stdout",
     "output_type": "stream",
     "text": [
      "The examination will start from: 11/12/2014)\n"
     ]
    }
   ],
   "source": [
    "esd = (11, 12, 2014)\n",
    "print(\"The examination will start from: %i/%i/%i)\"%esd)\n"
   ]
  },
  {
   "cell_type": "code",
   "execution_count": 38,
   "id": "d934c516",
   "metadata": {},
   "outputs": [
    {
     "name": "stdout",
     "output_type": "stream",
     "text": [
      "5\n",
      "615\n"
     ]
    }
   ],
   "source": [
    "n = int(input())\n",
    "co = n+(10*n+n)+(100*n+10*n+n)\n",
    "print(co)"
   ]
  },
  {
   "cell_type": "code",
   "execution_count": 43,
   "id": "075872f9",
   "metadata": {},
   "outputs": [
    {
     "name": "stdout",
     "output_type": "stream",
     "text": [
      "Return the absolute value of the argument.\n"
     ]
    }
   ],
   "source": [
    "print(abs.__doc__)"
   ]
  },
  {
   "cell_type": "code",
   "execution_count": 51,
   "id": "7a21391c",
   "metadata": {},
   "outputs": [
    {
     "name": "stdout",
     "output_type": "stream",
     "text": [
      "2021\n",
      "11\n",
      "   November 2021\n",
      "Mo Tu We Th Fr Sa Su\n",
      " 1  2  3  4  5  6  7\n",
      " 8  9 10 11 12 13 14\n",
      "15 16 17 18 19 20 21\n",
      "22 23 24 25 26 27 28\n",
      "29 30\n",
      "\n"
     ]
    }
   ],
   "source": [
    "import calendar\n",
    "y = int(input())\n",
    "m = int(input())\n",
    "print(calendar.month(y,m))"
   ]
  },
  {
   "cell_type": "code",
   "execution_count": 54,
   "id": "a0d9de79",
   "metadata": {},
   "outputs": [
    {
     "name": "stdout",
     "output_type": "stream",
     "text": [
      "904.7786842338603\n"
     ]
    }
   ],
   "source": [
    "from math import pi\n",
    "r = 6\n",
    "V= (4/3)*pi*r**3\n",
    "print(V)"
   ]
  },
  {
   "cell_type": "code",
   "execution_count": 62,
   "id": "e3c5b0b5",
   "metadata": {},
   "outputs": [
    {
     "name": "stdout",
     "output_type": "stream",
     "text": [
      "20\n",
      "6\n"
     ]
    }
   ],
   "source": [
    "given_num = int(input())\n",
    "abs_num = 17\n",
    "diff = given_num - abs_num\n",
    "if given_num < abs_num:\n",
    "    print (abs_num - given_num )\n",
    "else:\n",
    "    print (2*(given_num - abs_num))\n"
   ]
  },
  {
   "cell_type": "code",
   "execution_count": 65,
   "id": "86e6a495",
   "metadata": {},
   "outputs": [
    {
     "name": "stdout",
     "output_type": "stream",
     "text": [
      "1024\n",
      "True\n"
     ]
    }
   ],
   "source": [
    "numb = int(input())\n",
    "if numb in range(1000, 2000):\n",
    "    print (True)\n",
    "else:\n",
    "    print (False)\n"
   ]
  },
  {
   "cell_type": "code",
   "execution_count": 70,
   "id": "09c0db4e",
   "metadata": {},
   "outputs": [
    {
     "name": "stdout",
     "output_type": "stream",
     "text": [
      "10\n",
      "11\n",
      "12\n",
      "33\n"
     ]
    }
   ],
   "source": [
    "n1 = int(input())\n",
    "n2 = int(input())\n",
    "n3 = int(input())\n",
    "sum = n1 + n2 + n3\n",
    "if n1 == n2 == n3:\n",
    "    print (3*n1)\n",
    "else:\n",
    "    print(sum)"
   ]
  },
  {
   "cell_type": "code",
   "execution_count": 15,
   "id": "b85495e6",
   "metadata": {},
   "outputs": [
    {
     "name": "stdout",
     "output_type": "stream",
     "text": [
      "Ismart\n",
      "Ismart\n"
     ]
    }
   ],
   "source": [
    "def gi(x):\n",
    "    if len(x) > 2 and x[:2] == \"Is\":\n",
    "        return x\n",
    "    return \"Is\" + x\n",
    "print(gi(\"Ismart\"))   \n",
    "print(gi(\"mart\"))"
   ]
  },
  {
   "cell_type": "code",
   "execution_count": 23,
   "id": "cd45ac17",
   "metadata": {},
   "outputs": [
    {
     "name": "stdout",
     "output_type": "stream",
     "text": [
      "10\n",
      "grow\n",
      "growgrowgrowgrowgrowgrowgrowgrowgrowgrow\n"
     ]
    }
   ],
   "source": [
    "n = int(input())\n",
    "st = str(input())\n",
    "new_s = st*n\n",
    "print(new_s)"
   ]
  },
  {
   "cell_type": "code",
   "execution_count": 26,
   "id": "a3f84842",
   "metadata": {},
   "outputs": [
    {
     "name": "stdout",
     "output_type": "stream",
     "text": [
      "abcabc\n",
      ".py.py.py\n"
     ]
    }
   ],
   "source": [
    "def st(str,n):\n",
    "    res = \"\"\n",
    "    for i in range(n):\n",
    "        res = res + str\n",
    "    return res\n",
    "print(st('abc', 2))\n",
    "print(st('.py', 3))"
   ]
  },
  {
   "cell_type": "code",
   "execution_count": 29,
   "id": "e3f55106",
   "metadata": {},
   "outputs": [
    {
     "name": "stdout",
     "output_type": "stream",
     "text": [
      "even\n"
     ]
    }
   ],
   "source": [
    "def ev(x):\n",
    "    if x%2 == 0:\n",
    "        return \"even\"\n",
    "    else:\n",
    "        return \"odd\"\n",
    "print(ev(14))\n",
    "    "
   ]
  },
  {
   "cell_type": "code",
   "execution_count": 37,
   "id": "2fe3989e",
   "metadata": {},
   "outputs": [
    {
     "name": "stdout",
     "output_type": "stream",
     "text": [
      "2\n",
      "3\n"
     ]
    }
   ],
   "source": [
    "def list_count_4(nums):\n",
    "  count = 0  \n",
    "  for num in nums:\n",
    "    if num == 4:\n",
    "      count += 1\n",
    "\n",
    "  return count\n",
    "\n",
    "print(list_count_4([1, 4, 6, 7, 4]))\n",
    "print(list_count_4([1, 4, 6, 4, 7, 4]))"
   ]
  },
  {
   "cell_type": "code",
   "execution_count": 42,
   "id": "98254b18",
   "metadata": {},
   "outputs": [
    {
     "name": "stdout",
     "output_type": "stream",
     "text": [
      "aaaaa\n",
      "shshshshsh\n"
     ]
    }
   ],
   "source": [
    "def cop(st,n):\n",
    "    for i in st:\n",
    "        if len(st) > 2:\n",
    "            return st[:2]*n\n",
    "        if len(st) < 2:\n",
    "            return st*n\n",
    "        \n",
    "print(cop(\"a\",5))\n",
    "print(cop(\"shok\",5))\n",
    "            \n",
    "    "
   ]
  },
  {
   "cell_type": "code",
   "execution_count": 54,
   "id": "23921d2a",
   "metadata": {},
   "outputs": [
    {
     "name": "stdout",
     "output_type": "stream",
     "text": [
      "yes\n"
     ]
    }
   ],
   "source": [
    "vowe = ['a','e','i','o','u']\n",
    "def vow(ss):\n",
    "    for i in ss:\n",
    "        if i in vowe:\n",
    "            return \"yes\"\n",
    "        else:\n",
    "            return \"no\"\n",
    "print(vow(\"a\"))"
   ]
  },
  {
   "cell_type": "code",
   "execution_count": 62,
   "id": "96ba323a",
   "metadata": {},
   "outputs": [
    {
     "name": "stdout",
     "output_type": "stream",
     "text": [
      "True\n",
      "False\n"
     ]
    }
   ],
   "source": [
    "test = [1, 5, 8, 3]\n",
    "def tes(e):\n",
    "        if e in test:\n",
    "            return \"True\"\n",
    "        else:\n",
    "            return \"False\"\n",
    "print(tes(3))\n",
    "print(tes(-1))"
   ]
  },
  {
   "cell_type": "code",
   "execution_count": null,
   "id": "17806cb9",
   "metadata": {},
   "outputs": [],
   "source": []
  }
 ],
 "metadata": {
  "kernelspec": {
   "display_name": "Python 3",
   "language": "python",
   "name": "python3"
  },
  "language_info": {
   "codemirror_mode": {
    "name": "ipython",
    "version": 3
   },
   "file_extension": ".py",
   "mimetype": "text/x-python",
   "name": "python",
   "nbconvert_exporter": "python",
   "pygments_lexer": "ipython3",
   "version": "3.8.8"
  }
 },
 "nbformat": 4,
 "nbformat_minor": 5
}
